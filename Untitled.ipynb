{
 "cells": [
  {
   "cell_type": "code",
   "execution_count": 9,
   "id": "557c87b2",
   "metadata": {},
   "outputs": [],
   "source": [
    "f=open('carbon_nanotubes.csv','r',)"
   ]
  },
  {
   "cell_type": "code",
   "execution_count": 10,
   "id": "480c13df",
   "metadata": {},
   "outputs": [],
   "source": [
    "p=f.readline()"
   ]
  },
  {
   "cell_type": "code",
   "execution_count": 11,
   "id": "2401feb6",
   "metadata": {},
   "outputs": [
    {
     "data": {
      "text/plain": [
       "\"Chiral indice n;Chiral indice m;Initial atomic coordinate u;Initial atomic coordinate v;Initial atomic coordinate w;Calculated atomic coordinates u';Calculated atomic coordinates v';Calculated atomic coordinates w'\\n\""
      ]
     },
     "execution_count": 11,
     "metadata": {},
     "output_type": "execute_result"
    }
   ],
   "source": [
    "p"
   ]
  },
  {
   "cell_type": "code",
   "execution_count": 12,
   "id": "f52689b3",
   "metadata": {},
   "outputs": [
    {
     "data": {
      "text/plain": [
       "\"Chiral indice n,Chiral indice m,Initial atomic coordinate u,Initial atomic coordinate v,Initial atomic coordinate w,Calculated atomic coordinates u',Calculated atomic coordinates v',Calculated atomic coordinates w'\\n\""
      ]
     },
     "execution_count": 12,
     "metadata": {},
     "output_type": "execute_result"
    }
   ],
   "source": [
    "p.replace(';',',')"
   ]
  },
  {
   "cell_type": "code",
   "execution_count": null,
   "id": "b4c15d6b",
   "metadata": {},
   "outputs": [],
   "source": []
  },
  {
   "cell_type": "code",
   "execution_count": null,
   "id": "4e4b824c",
   "metadata": {},
   "outputs": [],
   "source": []
  }
 ],
 "metadata": {
  "kernelspec": {
   "display_name": "Python 3",
   "language": "python",
   "name": "python3"
  },
  "language_info": {
   "codemirror_mode": {
    "name": "ipython",
    "version": 3
   },
   "file_extension": ".py",
   "mimetype": "text/x-python",
   "name": "python",
   "nbconvert_exporter": "python",
   "pygments_lexer": "ipython3",
   "version": "3.8.8"
  }
 },
 "nbformat": 4,
 "nbformat_minor": 5
}
